{
 "cells": [
  {
   "cell_type": "code",
   "execution_count": 2,
   "metadata": {},
   "outputs": [],
   "source": [
    "import pandas as pd"
   ]
  },
  {
   "cell_type": "code",
   "execution_count": 3,
   "metadata": {},
   "outputs": [],
   "source": [
    "# load raw data\n",
    "raw_data = pd.read_csv('postcodes_2021_expanded.csv')"
   ]
  },
  {
   "cell_type": "code",
   "execution_count": 4,
   "metadata": {},
   "outputs": [
    {
     "name": "stderr",
     "output_type": "stream",
     "text": [
      "C:\\Users\\jagov\\AppData\\Local\\Temp\\ipykernel_20848\\3826114169.py:2: FutureWarning: DataFrame.fillna with 'method' is deprecated and will raise in a future version. Use obj.ffill() or obj.bfill() instead.\n",
      "  raw_data_filled = raw_data.fillna(method='ffill')\n"
     ]
    }
   ],
   "source": [
    "# fill missing values with the preceding non-missing value\n",
    "raw_data_filled = raw_data.fillna(method='ffill')"
   ]
  },
  {
   "cell_type": "code",
   "execution_count": 30,
   "metadata": {},
   "outputs": [],
   "source": [
    "# set year to 2021\n",
    "raw_data_filled['year'] = 2021\n",
    "# remove text from postcode\n",
    "raw_data_filled['postcode'] = raw_data_filled['postcode'].str.replace(', SA', '')\n",
    "# convert postcode to string\n",
    "raw_data_filled['postcode'] = raw_data_filled['postcode'].astype(str)\n",
    "# set year to integer\n",
    "raw_data_filled['year'] = raw_data_filled['year'].astype(int)\n",
    "# change values of cultural_background\n",
    "raw_data_filled = raw_data_filled.replace({'cultural_background': {\"Indigenous\": \"ATSI\", \"Non-Indigenous\": \"Other\"}})\n"
   ]
  },
  {
   "cell_type": "code",
   "execution_count": 31,
   "metadata": {},
   "outputs": [
    {
     "name": "stderr",
     "output_type": "stream",
     "text": [
      "C:\\Users\\jagov\\AppData\\Local\\Temp\\ipykernel_20848\\1609609447.py:8: SettingWithCopyWarning: \n",
      "A value is trying to be set on a copy of a slice from a DataFrame.\n",
      "Try using .loc[row_indexer,col_indexer] = value instead\n",
      "\n",
      "See the caveats in the documentation: https://pandas.pydata.org/pandas-docs/stable/user_guide/indexing.html#returning-a-view-versus-a-copy\n",
      "  postcode_denominator_new['postcode'] = postcode_denominator_new['postcode'].astype(str)\n"
     ]
    }
   ],
   "source": [
    "# load postcode denominator data\n",
    "postcode_denominator = pd.read_csv('postcode_denominators_SRA.csv')\n",
    "# set year to integer\n",
    "postcode_denominator['year'] = postcode_denominator['year'].astype(int)\n",
    "# get pre-2019 data\n",
    "postcode_denominator_new = postcode_denominator[postcode_denominator['year'] < 2019]\n",
    "# convert postcode to string\n",
    "postcode_denominator_new['postcode'] = postcode_denominator_new['postcode'].astype(str)"
   ]
  },
  {
   "cell_type": "code",
   "execution_count": 32,
   "metadata": {},
   "outputs": [],
   "source": [
    "# get distinct postcode and region pairs\n",
    "postcode_region = postcode_denominator_new[['postcode', 'region']].drop_duplicates()\n",
    "# convert postcode_region to dictionary\n",
    "postcode_region_dict = postcode_region.set_index('postcode')['region'].to_dict()"
   ]
  },
  {
   "cell_type": "code",
   "execution_count": 33,
   "metadata": {},
   "outputs": [],
   "source": [
    "# add raw_data_filled to postcode_denoms_new, changing year\n",
    "for year in range(2018, 2023):\n",
    "    raw_data_filled['year'] = year\n",
    "    postcode_denominator_new = pd.concat([postcode_denominator_new, raw_data_filled])"
   ]
  },
  {
   "cell_type": "code",
   "execution_count": 34,
   "metadata": {},
   "outputs": [],
   "source": [
    "# map region to postcode using apply\n",
    "postcode_denominator_new['region'] = postcode_denominator_new['postcode'].map(postcode_region_dict)"
   ]
  },
  {
   "cell_type": "code",
   "execution_count": 35,
   "metadata": {},
   "outputs": [],
   "source": [
    "# compute adjusted population\n",
    "def computeAdjustedPopulation(row):\n",
    "    if row['year'] > 2018:\n",
    "        if row['cultural_background'] == 'ATSI':\n",
    "            return row['population'] * 1.252342134\n",
    "        else:\n",
    "            return row['population'] * 1.014124163\n",
    "    else:\n",
    "        return row['adjusted_population']\n",
    "\n",
    "# apply\n",
    "postcode_denominator_new['adjusted_population'] = postcode_denominator_new.apply(computeAdjustedPopulation, axis=1)"
   ]
  },
  {
   "cell_type": "code",
   "execution_count": 38,
   "metadata": {},
   "outputs": [],
   "source": [
    "# load seifa data\n",
    "seifa_2021 = pd.read_csv('seifa_2021.csv')\n",
    "seifa_2021['year'] = 2021\n",
    "# convert postcode to string\n",
    "seifa_2021['postcode'] = seifa_2021['postcode'].astype(str)\n",
    "\n",
    "# create dictionary of postcode to each of the 4 seifa scores\n",
    "# Iterate through the DataFrame rows and build the nested dictionary\n",
    "seifa_dict = {}\n",
    "for index, row in seifa_2021.iterrows():\n",
    "    postcode = row['postcode']\n",
    "    inner_dict = {key: row[key] for key in seifa_2021.columns if key != 'postcode'}\n",
    "    seifa_dict[postcode] = inner_dict"
   ]
  },
  {
   "cell_type": "code",
   "execution_count": 39,
   "metadata": {},
   "outputs": [],
   "source": [
    "# function to apply seifa dict values to SEIFA_disadvantage column\n",
    "def computeSEIFADisadvantage(row):\n",
    "    if row['year'] > 2018:\n",
    "        # get seifa_disadvantage from the dict\n",
    "        postcode = row['postcode']\n",
    "        if postcode in seifa_dict:\n",
    "            return seifa_dict[postcode]['SEIFA_disadvantage']\n",
    "        else:\n",
    "            return row['SEIFA_disadvantage']\n",
    "    else:\n",
    "        return row['SEIFA_disadvantage']\n",
    "def computeSEIFAadvantage(row):\n",
    "    if row['year'] > 2018:\n",
    "        # get SEIFA_advantage_disadvantage from the dict\n",
    "        postcode = row['postcode']\n",
    "        if postcode in seifa_dict:\n",
    "            return seifa_dict[postcode]['SEIFA_advantage_disadvantage']\n",
    "        else:\n",
    "            return row['SEIFA_advantage_disadvantage']\n",
    "    else:\n",
    "        return row['SEIFA_advantage_disadvantage']\n",
    "def computeSEIFAeconomic(row):\n",
    "    if row['year'] > 2018:\n",
    "        # get SEIFA_socioeconomic from the dict\n",
    "        postcode = row['postcode']\n",
    "        if postcode in seifa_dict:\n",
    "            return seifa_dict[postcode]['SEIFA_economic']\n",
    "        else:\n",
    "            return row['SEIFA_economic']\n",
    "    else:\n",
    "        return row['SEIFA_economic']\n",
    "def computeSEIFAeducation(row):\n",
    "    if row['year'] > 2018:\n",
    "        # get SEIFA_education from the dict\n",
    "        postcode = row['postcode']\n",
    "        if postcode in seifa_dict:\n",
    "            return seifa_dict[postcode]['SEIFA_education_occupation']\n",
    "        else:\n",
    "            return row['SEIFA_education_occupation']\n",
    "    else:\n",
    "        return row['SEIFA_education_occupation']\n",
    "\n",
    "#  apply functions\n",
    "postcode_denominator_new['SEIFA_disadvantage'] = postcode_denominator_new.apply(computeSEIFADisadvantage, axis=1)\n",
    "postcode_denominator_new['SEIFA_advantage_disadvantage'] = postcode_denominator_new.apply(computeSEIFAadvantage, axis=1)\n",
    "postcode_denominator_new['SEIFA_economic'] = postcode_denominator_new.apply(computeSEIFAeconomic, axis=1)\n",
    "postcode_denominator_new['SEIFA_education_occupation'] = postcode_denominator_new.apply(computeSEIFAeducation, axis=1)"
   ]
  },
  {
   "cell_type": "code",
   "execution_count": 40,
   "metadata": {},
   "outputs": [],
   "source": [
    "#drop all fields after column index\n",
    "postcode_denominator_nonSRA = postcode_denominator_new.iloc[:, :11]"
   ]
  },
  {
   "cell_type": "code",
   "execution_count": 41,
   "metadata": {},
   "outputs": [],
   "source": [
    "# write to csv\n",
    "postcode_denominator_nonSRA.to_csv('postcode_denominators_2022.csv', index=False)"
   ]
  }
 ],
 "metadata": {
  "kernelspec": {
   "display_name": "Python 3",
   "language": "python",
   "name": "python3"
  },
  "language_info": {
   "codemirror_mode": {
    "name": "ipython",
    "version": 3
   },
   "file_extension": ".py",
   "mimetype": "text/x-python",
   "name": "python",
   "nbconvert_exporter": "python",
   "pygments_lexer": "ipython3",
   "version": "3.11.5"
  },
  "orig_nbformat": 4
 },
 "nbformat": 4,
 "nbformat_minor": 2
}
